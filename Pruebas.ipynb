{
 "cells": [
  {
   "cell_type": "code",
   "execution_count": 26,
   "metadata": {
    "collapsed": true
   },
   "outputs": [],
   "source": [
    "import os\n",
    "\n",
    "#funcion\n",
    "def print_List(x):\n",
    "    for i in x:\n",
    "        print i\n",
    "        \n",
    "def crea_Coma(i,str1):\n",
    "    str2=str1.replace(\"Hola\",\"C\"+str(i).zfill(3))\n",
    "    return str2+\" , \"+ \"fin \""
   ]
  },
  {
   "cell_type": "code",
   "execution_count": 27,
   "metadata": {
    "collapsed": false
   },
   "outputs": [],
   "source": [
    "str1='''\n",
    "\n",
    "'''\n",
    "\n",
    "\n",
    "#Lista\n",
    "commandList=[]\n",
    "#ciclo\n",
    "for i in range (18):\n",
    "    str2=crea_Coma(i,str1)\n",
    "    commandList.append(str2)\n",
    "    os.system(str2)\n",
    "\n",
    "    \n",
    "    "
   ]
  },
  {
   "cell_type": "code",
   "execution_count": 22,
   "metadata": {
    "collapsed": false
   },
   "outputs": [
    {
     "name": "stdout",
     "output_type": "stream",
     "text": [
      "[0, 1, 2, 3, 4, 5, 6, 7, 8, 9, 10, 11, 12, 13, 14, 15, 16, 17]\n"
     ]
    }
   ],
   "source": [
    "print range(18)"
   ]
  },
  {
   "cell_type": "code",
   "execution_count": 24,
   "metadata": {
    "collapsed": false
   },
   "outputs": [
    {
     "name": "stdout",
     "output_type": "stream",
     "text": [
      "echo C000 mundo , fin \n",
      "echo C001 mundo , fin \n",
      "echo C002 mundo , fin \n",
      "echo C003 mundo , fin \n",
      "echo C004 mundo , fin \n",
      "echo C005 mundo , fin \n",
      "echo C006 mundo , fin \n",
      "echo C007 mundo , fin \n",
      "echo C008 mundo , fin \n",
      "echo C009 mundo , fin \n",
      "echo C010 mundo , fin \n",
      "echo C011 mundo , fin \n",
      "echo C012 mundo , fin \n",
      "echo C013 mundo , fin \n",
      "echo C014 mundo , fin \n",
      "echo C015 mundo , fin \n",
      "echo C016 mundo , fin \n",
      "echo C017 mundo , fin \n"
     ]
    }
   ],
   "source": [
    "print_List(commandList)"
   ]
  },
  {
   "cell_type": "code",
   "execution_count": 40,
   "metadata": {
    "collapsed": false
   },
   "outputs": [
    {
     "name": "stdout",
     "output_type": "stream",
     "text": [
      "fsl5.0-merge /carpeta1/carpeta2/archivo /carpeta/carpeta/imagenes/0000.nii.gz /carpeta/carpeta/imagenes/0001.nii.gz /carpeta/carpeta/imagenes/0002.nii.gz /carpeta/carpeta/imagenes/0003.nii.gz /carpeta/carpeta/imagenes/0004.nii.gz /carpeta/carpeta/imagenes/0005.nii.gz /carpeta/carpeta/imagenes/0006.nii.gz /carpeta/carpeta/imagenes/0007.nii.gz /carpeta/carpeta/imagenes/0008.nii.gz /carpeta/carpeta/imagenes/0009.nii.gz /carpeta/carpeta/imagenes/0010.nii.gz /carpeta/carpeta/imagenes/0011.nii.gz /carpeta/carpeta/imagenes/0012.nii.gz /carpeta/carpeta/imagenes/0013.nii.gz /carpeta/carpeta/imagenes/0014.nii.gz /carpeta/carpeta/imagenes/0015.nii.gz /carpeta/carpeta/imagenes/0016.nii.gz /carpeta/carpeta/imagenes/0017.nii.gz /carpeta/carpeta/imagenes/0018.nii.gz /carpeta/carpeta/imagenes/0019.nii.gz /carpeta/carpeta/imagenes/0020.nii.gz /carpeta/carpeta/imagenes/0021.nii.gz /carpeta/carpeta/imagenes/0022.nii.gz /carpeta/carpeta/imagenes/0023.nii.gz /carpeta/carpeta/imagenes/0024.nii.gz /carpeta/carpeta/imagenes/0025.nii.gz /carpeta/carpeta/imagenes/0026.nii.gz /carpeta/carpeta/imagenes/0027.nii.gz /carpeta/carpeta/imagenes/0028.nii.gz /carpeta/carpeta/imagenes/0029.nii.gz /carpeta/carpeta/imagenes/0030.nii.gz /carpeta/carpeta/imagenes/0031.nii.gz /carpeta/carpeta/imagenes/0032.nii.gz /carpeta/carpeta/imagenes/0033.nii.gz /carpeta/carpeta/imagenes/0034.nii.gz /carpeta/carpeta/imagenes/0035.nii.gz /carpeta/carpeta/imagenes/0036.nii.gz /carpeta/carpeta/imagenes/0037.nii.gz /carpeta/carpeta/imagenes/0038.nii.gz /carpeta/carpeta/imagenes/0039.nii.gz /carpeta/carpeta/imagenes/0040.nii.gz /carpeta/carpeta/imagenes/0041.nii.gz /carpeta/carpeta/imagenes/0042.nii.gz /carpeta/carpeta/imagenes/0043.nii.gz /carpeta/carpeta/imagenes/0044.nii.gz /carpeta/carpeta/imagenes/0045.nii.gz /carpeta/carpeta/imagenes/0046.nii.gz /carpeta/carpeta/imagenes/0047.nii.gz /carpeta/carpeta/imagenes/0048.nii.gz /carpeta/carpeta/imagenes/0049.nii.gz /carpeta/carpeta/imagenes/0050.nii.gz /carpeta/carpeta/imagenes/0051.nii.gz /carpeta/carpeta/imagenes/0052.nii.gz /carpeta/carpeta/imagenes/0053.nii.gz /carpeta/carpeta/imagenes/0054.nii.gz /carpeta/carpeta/imagenes/0055.nii.gz /carpeta/carpeta/imagenes/0056.nii.gz /carpeta/carpeta/imagenes/0057.nii.gz /carpeta/carpeta/imagenes/0058.nii.gz /carpeta/carpeta/imagenes/0059.nii.gz /carpeta/carpeta/imagenes/0060.nii.gz /carpeta/carpeta/imagenes/0061.nii.gz /carpeta/carpeta/imagenes/0062.nii.gz /carpeta/carpeta/imagenes/0063.nii.gz /carpeta/carpeta/imagenes/0064.nii.gz /carpeta/carpeta/imagenes/0065.nii.gz /carpeta/carpeta/imagenes/0066.nii.gz /carpeta/carpeta/imagenes/0067.nii.gz /carpeta/carpeta/imagenes/0068.nii.gz /carpeta/carpeta/imagenes/0069.nii.gz /carpeta/carpeta/imagenes/0070.nii.gz /carpeta/carpeta/imagenes/0071.nii.gz /carpeta/carpeta/imagenes/0072.nii.gz /carpeta/carpeta/imagenes/0073.nii.gz /carpeta/carpeta/imagenes/0074.nii.gz /carpeta/carpeta/imagenes/0075.nii.gz /carpeta/carpeta/imagenes/0076.nii.gz /carpeta/carpeta/imagenes/0077.nii.gz /carpeta/carpeta/imagenes/0078.nii.gz /carpeta/carpeta/imagenes/0079.nii.gz /carpeta/carpeta/imagenes/0080.nii.gz /carpeta/carpeta/imagenes/0081.nii.gz /carpeta/carpeta/imagenes/0082.nii.gz /carpeta/carpeta/imagenes/0083.nii.gz /carpeta/carpeta/imagenes/0084.nii.gz /carpeta/carpeta/imagenes/0085.nii.gz /carpeta/carpeta/imagenes/0086.nii.gz /carpeta/carpeta/imagenes/0087.nii.gz /carpeta/carpeta/imagenes/0088.nii.gz /carpeta/carpeta/imagenes/0089.nii.gz /carpeta/carpeta/imagenes/0090.nii.gz /carpeta/carpeta/imagenes/0091.nii.gz /carpeta/carpeta/imagenes/0092.nii.gz /carpeta/carpeta/imagenes/0093.nii.gz /carpeta/carpeta/imagenes/0094.nii.gz /carpeta/carpeta/imagenes/0095.nii.gz /carpeta/carpeta/imagenes/0096.nii.gz /carpeta/carpeta/imagenes/0097.nii.gz /carpeta/carpeta/imagenes/0098.nii.gz /carpeta/carpeta/imagenes/0099.nii.gz /carpeta/carpeta/imagenes/0100.nii.gz /carpeta/carpeta/imagenes/0101.nii.gz /carpeta/carpeta/imagenes/0102.nii.gz /carpeta/carpeta/imagenes/0103.nii.gz /carpeta/carpeta/imagenes/0104.nii.gz /carpeta/carpeta/imagenes/0105.nii.gz /carpeta/carpeta/imagenes/0106.nii.gz /carpeta/carpeta/imagenes/0107.nii.gz /carpeta/carpeta/imagenes/0108.nii.gz /carpeta/carpeta/imagenes/0109.nii.gz /carpeta/carpeta/imagenes/0110.nii.gz /carpeta/carpeta/imagenes/0111.nii.gz /carpeta/carpeta/imagenes/0112.nii.gz /carpeta/carpeta/imagenes/0113.nii.gz /carpeta/carpeta/imagenes/0114.nii.gz /carpeta/carpeta/imagenes/0115.nii.gz /carpeta/carpeta/imagenes/0116.nii.gz /carpeta/carpeta/imagenes/0117.nii.gz /carpeta/carpeta/imagenes/0118.nii.gz /carpeta/carpeta/imagenes/0119.nii.gz1\n"
     ]
    }
   ],
   "source": [
    "#merge\n",
    "def command_merge(dirout,dirin):\n",
    "    commandMerge='fsl5.0-merge out dirin1'\n",
    "    \n",
    "    lista_dirin=[]\n",
    "    for i in range (120):\n",
    "        command2= dirin+str(i).zfill(4)+'.nii.gz'\n",
    "        lista_dirin.append(command2)\n",
    "    commandMerge=commandMerge.replace('out',dirout).replace('dirin',' '.join(lista_dirin))\n",
    "    return commandMerge \n",
    "\n",
    "commands=command_merge('/carpeta1/carpeta2/archivo','/carpeta/carpeta/imagenes/')\n",
    "\n",
    "print commands"
   ]
  },
  {
   "cell_type": "code",
   "execution_count": 31,
   "metadata": {
    "collapsed": false
   },
   "outputs": [
    {
     "name": "stdout",
     "output_type": "stream",
     "text": [
      "a,b,c\n"
     ]
    }
   ],
   "source": [
    "\n",
    "seq = [\"a\", \"b\", \"c\"]; # This is sequence of strings.\n",
    "print \",\".join( seq )"
   ]
  },
  {
   "cell_type": "code",
   "execution_count": null,
   "metadata": {
    "collapsed": true
   },
   "outputs": [],
   "source": [
    "def pipeline1():\n",
    "    preprocesamientoest()\n",
    "    preprocefuncional()\n",
    "    filtre()\n",
    "    \n",
    "pipeline1 (C001)\n",
    "pipeline1 (C002)"
   ]
  }
 ],
 "metadata": {
  "kernelspec": {
   "display_name": "Python 3",
   "language": "python",
   "name": "python3"
  },
  "language_info": {
   "codemirror_mode": {
    "name": "ipython",
    "version": 3
   },
   "file_extension": ".py",
   "mimetype": "text/x-python",
   "name": "python",
   "nbconvert_exporter": "python",
   "pygments_lexer": "ipython3",
   "version": "3.4.3"
  }
 },
 "nbformat": 4,
 "nbformat_minor": 1
}
