{
 "cells": [
  {
   "cell_type": "code",
   "execution_count": 5,
   "metadata": {
    "collapsed": false
   },
   "outputs": [],
   "source": [
    "import os\n",
    "import commands\n",
    "def print_list(x):\n",
    "    for i in x:\n",
    "        print i\n",
    "def orden(x):\n",
    "    print x\n",
    "    #os.system(x)\n"
   ]
  },
  {
   "cell_type": "markdown",
   "metadata": {},
   "source": [
    "#  Funciones de preprocesamiento"
   ]
  },
  {
   "cell_type": "code",
   "execution_count": 6,
   "metadata": {
    "collapsed": true
   },
   "outputs": [],
   "source": [
    "############# T1_Preproc\n",
    "def T1_Preproc(fol_in,fol_out):\n",
    "    iin=fol_in+'highres.nii.gz'\n",
    "    iout=fol_out+'highres_reorient.nii.gz'\n",
    "    comm='fsl5.0-fslreorient2std '+iin+' '+iout+' ; '\n",
    "    \n",
    "    #-----------------------------------------\n",
    "    iin=fol_out+'highres_reorient.nii.gz'\n",
    "    iout=fol_out+'highres_bet.nii.gz'\n",
    "    comm=comm+'fsl5.0-bet '+iin+' '+iout+' -m -f 0.3 -g -0.05 ; rm '+iin+' ; '\n",
    "    \n",
    "    #------------------------------------------  \n",
    "    iin=fol_out+'highres_bet.nii.gz'\n",
    "    iout=fol_out+'highres_bet_5_mm.nii.gz'\n",
    "    comm=comm+'fsl5.0-fslmaths '+iin+' -kernel gauss 5 -fmean '+iout+' ; rm '+iin\n",
    "    return comm, iout"
   ]
  },
  {
   "cell_type": "code",
   "execution_count": 7,
   "metadata": {
    "collapsed": true
   },
   "outputs": [],
   "source": [
    "############# T2_Preproc\n",
    "def T2_Preproc(fol_in,fol_out):\n",
    "    iin=fol_in+'rsfMRI.nii.gz'\n",
    "    iout_med=fol_out+'rsfMRI_med.nii.gz'\n",
    "    iout=fol_out+'rsfMRI_01.nii.gz'\n",
    "    \n",
    "    comm='fsl5.0-fslmaths '+iin+' -Tmean '+iout_med+' ; '\n",
    "    comm=comm+'fsl5.0-fslmaths '+iin+' -bptf 20 -1 -add '+iout_med+' '+iout\n",
    "    comm=comm+' ; rm '+iout_med+' ; rm '+fol_out+'highres_bet_mask.nii.gz'\n",
    "    return comm, iout\n",
    "\n",
    "############# T2_Preproc_MCflirt\n",
    "def T2_Preproc_MC(fol_in,fol_out):\n",
    "    iin0=fol_in+'rsfMRI.nii.gz'\n",
    "    iin=fol_out+'rsfMRI_MC.nii.gz'\n",
    "    iout_med=fol_out+'rsfMRI_med.nii.gz'\n",
    "    iout=fol_out+'rsfMRI_MC_01.nii.gz'\n",
    "    #-----------------------------------------\n",
    "    comm='fsl5.0-mcflirt -in '+iin0+'  -out '+iin+' -refvol 0 -plots -report ; '\n",
    "    #-----------------------------------------\n",
    "    comm=comm+'fsl5.0-fslmaths '+iin+' -Tmean '+iout_med+' ; '\n",
    "    comm=comm+'fsl5.0-fslmaths '+iin+' -bptf 20 -1 -add '+iout_med+' '+iout+' ; '\n",
    "    comm=comm+'rm '+iout_med+' ; rm '+iin\n",
    "    \n",
    "    return comm, iout"
   ]
  },
  {
   "cell_type": "markdown",
   "metadata": {},
   "source": [
    "# Funciones de filtro"
   ]
  },
  {
   "cell_type": "code",
   "execution_count": 8,
   "metadata": {
    "collapsed": true
   },
   "outputs": [],
   "source": [
    "def Gauss(iin,mm,iout):\n",
    "    comm='fsl5.0-fslmaths '+iin+' -kernel gauss '+mm+' -fmean '+iout\n",
    "    return comm\n",
    "\n",
    "def Aniso(iin,it,iout,fol_out,j):\n",
    "    place=1\n",
    "    comm=''\n",
    "    if(place==1):\n",
    "        ##usado para servidor\n",
    "        comm=comm+'(cd ~/abin/; ./3danisosmooth -3D -iters '+it+' -prefix '+iout+' '+iin+')' \n",
    "        comm=comm+' ; (cd ~/abin/; ./3dAFNItoNIFTI -prefix '+iout+' '+iout+'+orig)'\n",
    "        comm=comm+' ; rm -R '+fol_out+str(j).zfill(4)+'+orig.BRIK'\n",
    "        comm=comm+' ; rm -R '+fol_out+str(j).zfill(4)+'+orig.HEAD'     \n",
    "    else:\n",
    "        ##usado por computador \n",
    "        comm=comm+'3danisosmooth -3D -iters '+it+' -prefix '+iout+' '+iin\n",
    "        comm=comm+' ; 3dAFNItoNIFTI -prefix '+iout+' '+iout+'+tlrc'\n",
    "        comm=comm+' ; rm -R '+fol_out+str(j).zfill(4)+'+tlrc.BRIK'\n",
    "        comm=comm+' ; rm -R '+fol_out+str(j).zfill(4)+'+tlrc.HEAD'\n",
    "    return comm"
   ]
  },
  {
   "cell_type": "code",
   "execution_count": 9,
   "metadata": {
    "collapsed": true
   },
   "outputs": [],
   "source": [
    "# genera comandos\n",
    "#[ indicativo_experimento , 1 graduente 0 curvatura , iteraciones, delta_tiempo , conductancia o radio ]\n",
    "\n",
    "def AnisoITK(typ,iin,iout,niter,dt,conductancia):\n",
    "    type_filter=['AnisotropicCurvature','AnisotropicGradient'][typ]\n",
    "    comm='( cd /home/users/aforero/itk_lib/InsightToolkit-4.10.1/Examples/ ; ./'+type_filter+' '+iin+' '+iout+' '+str(niter)+' '+str(dt)+' '+str(conductancia)+' )'\n",
    "    return comm"
   ]
  },
  {
   "cell_type": "markdown",
   "metadata": {},
   "source": [
    "# Crear carpeta"
   ]
  },
  {
   "cell_type": "code",
   "execution_count": 23,
   "metadata": {
    "collapsed": false
   },
   "outputs": [],
   "source": [
    "def newFol(fol_out):\n",
    "    comm='mkdir '+fol_out\n",
    "    return comm"
   ]
  },
  {
   "cell_type": "markdown",
   "metadata": {},
   "source": [
    "#  Separa Une"
   ]
  },
  {
   "cell_type": "code",
   "execution_count": 10,
   "metadata": {
    "collapsed": true
   },
   "outputs": [],
   "source": [
    "def Split(iin,fol_out):\n",
    "    comm='mkdir '+fol_out+' ; '\n",
    "    iout=fol_out\n",
    "    comm=comm+'fsl5.0-fslsplit '+iin+' '+iout+' -t'\n",
    "    return comm\n",
    "    "
   ]
  },
  {
   "cell_type": "code",
   "execution_count": 11,
   "metadata": {
    "collapsed": true
   },
   "outputs": [],
   "source": [
    "def merge(fol_in,iout):\n",
    "    comm='fsl5.0-fslmerge -t '+iout\n",
    "    for i in range(120):\n",
    "        comm=comm+' '+fol_in+str(i).zfill(4)+'.nii.gz'\n",
    "    return comm"
   ]
  },
  {
   "cell_type": "markdown",
   "metadata": {},
   "source": [
    "# Registro"
   ]
  },
  {
   "cell_type": "code",
   "execution_count": 12,
   "metadata": {
    "collapsed": true
   },
   "outputs": [],
   "source": [
    "def Reg(iin,iout,iref,ioutmat,dof):\n",
    "    comm='fsl5.0-flirt -dof '+dof+' -in '+iin+' -ref '+iref+' -omat '+ioutmat+' -out '+iout\n",
    "    return comm\n",
    "    "
   ]
  },
  {
   "cell_type": "markdown",
   "metadata": {},
   "source": [
    "#  Normalización"
   ]
  },
  {
   "cell_type": "code",
   "execution_count": 13,
   "metadata": {
    "collapsed": true
   },
   "outputs": [],
   "source": [
    "def Norm (iin, iout,iatlas, mat_ref, iref):\n",
    "    comm='fsl5.0-flirt  -in '+iin+' -ref'+iatlas+' -applyxfm   -init '+ mat_ref+'  -out '+iout\n",
    "    return comm"
   ]
  },
  {
   "cell_type": "markdown",
   "metadata": {},
   "source": [
    "# ICA"
   ]
  },
  {
   "cell_type": "code",
   "execution_count": 14,
   "metadata": {
    "collapsed": true
   },
   "outputs": [],
   "source": [
    "Data0='''\n",
    "# FEAT version number\n",
    "set fmri(version) 3.14\n",
    "\n",
    "# Are we in MELODIC?\n",
    "set fmri(inmelodic) 1\n",
    "\n",
    "# Analysis level\n",
    "# 1 : First-level analysis\n",
    "# 2 : Higher-level analysis\n",
    "set fmri(level) 1\n",
    "\n",
    "# Which stages to run\n",
    "# 0 : No first-level analysis (registration and/or group stats only)\n",
    "# 7 : Full first-level analysis\n",
    "# 1 : Pre-processing\n",
    "# 2 : Statistics\n",
    "set fmri(analysis) 7\n",
    "\n",
    "# Use relative filenames\n",
    "set fmri(relative_yn) 0\n",
    "\n",
    "# Balloon help\n",
    "set fmri(help_yn) 1\n",
    "\n",
    "# Run Featwatcher\n",
    "set fmri(featwatcher_yn) 1\n",
    "\n",
    "# Cleanup first-level standard-space images\n",
    "set fmri(sscleanup_yn) 0\n",
    "\n",
    "# Output directory\n",
    "set fmri(outputdir) \"/home/arbey/Escritorio/Tesis/icA\"\n",
    "\n",
    "# TR(s)\n",
    "set fmri(tr) 2.5\n",
    "\n",
    "# Total volumes\n",
    "set fmri(npts) 120\n",
    "\n",
    "# Delete volumes\n",
    "set fmri(ndelete) 0\n",
    "\n",
    "# Perfusion tag/control order\n",
    "set fmri(tagfirst) 1\n",
    "\n",
    "# Number of first-level analyses\n",
    "set fmri(multiple) 1\n",
    "\n",
    "# Higher-level input type\n",
    "# 1 : Inputs are lower-level FEAT directories\n",
    "# 2 : Inputs are cope images from FEAT directories\n",
    "set fmri(inputtype) 2\n",
    "\n",
    "# Carry out pre-stats processing?\n",
    "set fmri(filtering_yn) 1\n",
    "\n",
    "# Brain/background threshold, %\n",
    "set fmri(brain_thresh) 10\n",
    "\n",
    "# Critical z for design efficiency calculation\n",
    "set fmri(critical_z) 5.3\n",
    "\n",
    "# Noise level\n",
    "set fmri(noise) 0.66\n",
    "\n",
    "# Noise AR(1)\n",
    "set fmri(noisear) 0.34\n",
    "\n",
    "# Motion correction\n",
    "# 0 : None\n",
    "# 1 : MCFLIRT\n",
    "set fmri(mc) 0\n",
    "\n",
    "# Spin-history (currently obsolete)\n",
    "set fmri(sh_yn) 0\n",
    "\n",
    "# B0 fieldmap unwarping?\n",
    "set fmri(regunwarp_yn) 0\n",
    "\n",
    "# EPI dwell time (ms)\n",
    "set fmri(dwell) 0.7\n",
    "\n",
    "# EPI TE (ms)\n",
    "set fmri(te) 35\n",
    "\n",
    "# % Signal loss threshold\n",
    "set fmri(signallossthresh) 10\n",
    "\n",
    "# Unwarp direction\n",
    "set fmri(unwarp_dir) y-\n",
    "\n",
    "# Slice timing correction\n",
    "# 0 : None\n",
    "# 1 : Regular up (0, 1, 2, 3, ...)\n",
    "# 2 : Regular down\n",
    "# 3 : Use slice order file\n",
    "# 4 : Use slice timings file\n",
    "# 5 : Interleaved (0, 2, 4 ... 1, 3, 5 ... )\n",
    "set fmri(st) 0\n",
    "\n",
    "# Slice timings file\n",
    "set fmri(st_file) \"\"\n",
    "\n",
    "# BET brain extraction\n",
    "set fmri(bet_yn) 0\n",
    "\n",
    "# Spatial smoothing FWHM (mm)\n",
    "set fmri(smooth) 0.0\n",
    "\n",
    "# Intensity normalization\n",
    "set fmri(norm_yn) 0\n",
    "\n",
    "# Perfusion subtraction\n",
    "set fmri(perfsub_yn) 0\n",
    "\n",
    "# Highpass temporal filtering\n",
    "set fmri(temphp_yn) 0\n",
    "\n",
    "# Lowpass temporal filtering\n",
    "set fmri(templp_yn) 0\n",
    "\n",
    "# MELODIC ICA data exploration\n",
    "set fmri(melodic_yn) 0\n",
    "\n",
    "# Carry out main stats?\n",
    "set fmri(stats_yn) 1\n",
    "\n",
    "# Carry out prewhitening?\n",
    "set fmri(prewhiten_yn) 1\n",
    "\n",
    "# Add motion parameters to model\n",
    "# 0 : No\n",
    "# 1 : Yes\n",
    "set fmri(motionevs) 0\n",
    "set fmri(motionevsbeta) \"\"\n",
    "set fmri(scriptevsbeta) \"\"\n",
    "\n",
    "# Robust outlier detection in FLAME?\n",
    "set fmri(robust_yn) 0\n",
    "\n",
    "# Higher-level modelling\n",
    "# 3 : Fixed effects\n",
    "# 0 : Mixed Effects: Simple OLS\n",
    "# 2 : Mixed Effects: FLAME 1\n",
    "# 1 : Mixed Effects: FLAME 1+2\n",
    "set fmri(mixed_yn) 2\n",
    "\n",
    "# Number of EVs\n",
    "set fmri(evs_orig) 1\n",
    "set fmri(evs_real) 1\n",
    "set fmri(evs_vox) 0\n",
    "\n",
    "# Number of contrasts\n",
    "set fmri(ncon_orig) 1\n",
    "set fmri(ncon_real) 1\n",
    "\n",
    "# Number of F-tests\n",
    "set fmri(nftests_orig) 0\n",
    "set fmri(nftests_real) 0\n",
    "\n",
    "# Add constant column to design matrix? (obsolete)\n",
    "set fmri(constcol) 0\n",
    "\n",
    "# Carry out post-stats steps?\n",
    "set fmri(poststats_yn) 1\n",
    "\n",
    "# Pre-threshold masking?\n",
    "set fmri(threshmask) \"\"\n",
    "\n",
    "# Thresholding\n",
    "# 0 : None\n",
    "# 1 : Uncorrected\n",
    "# 2 : Voxel\n",
    "# 3 : Cluster\n",
    "set fmri(thresh) 3\n",
    "\n",
    "# P threshold\n",
    "set fmri(prob_thresh) 0.05\n",
    "\n",
    "# Z threshold\n",
    "set fmri(z_thresh) 2.3\n",
    "\n",
    "# Z min/max for colour rendering\n",
    "# 0 : Use actual Z min/max\n",
    "# 1 : Use preset Z min/max\n",
    "set fmri(zdisplay) 0\n",
    "\n",
    "# Z min in colour rendering\n",
    "set fmri(zmin) 2\n",
    "\n",
    "# Z max in colour rendering\n",
    "set fmri(zmax) 8\n",
    "\n",
    "# Colour rendering type\n",
    "# 0 : Solid blobs\n",
    "# 1 : Transparent blobs\n",
    "set fmri(rendertype) 1\n",
    "\n",
    "# Background image for higher-level stats overlays\n",
    "# 1 : Mean highres\n",
    "# 2 : First highres\n",
    "# 3 : Mean functional\n",
    "# 4 : First functional\n",
    "# 5 : Standard space template\n",
    "set fmri(bgimage) 1\n",
    "\n",
    "# Create time series plots\n",
    "set fmri(tsplot_yn) 1\n",
    "\n",
    "# Registration to initial structural\n",
    "set fmri(reginitial_highres_yn) 0\n",
    "\n",
    "# Search space for registration to initial structural\n",
    "# 0   : No search\n",
    "# 90  : Normal search\n",
    "# 180 : Full search\n",
    "set fmri(reginitial_highres_search) 90\n",
    "\n",
    "# Degrees of Freedom for registration to initial structural\n",
    "set fmri(reginitial_highres_dof) 3\n",
    "\n",
    "# Registration to main structural\n",
    "set fmri(reghighres_yn) 0\n",
    "\n",
    "# Search space for registration to main structural\n",
    "# 0   : No search\n",
    "# 90  : Normal search\n",
    "# 180 : Full search\n",
    "set fmri(reghighres_search) 90\n",
    "\n",
    "# Degrees of Freedom for registration to main structural\n",
    "set fmri(reghighres_dof) BBR\n",
    "\n",
    "# Registration to standard image?\n",
    "set fmri(regstandard_yn) 0\n",
    "\n",
    "# Use alternate reference images?\n",
    "set fmri(alternateReference_yn) 0\n",
    "\n",
    "# Standard image\n",
    "set fmri(regstandard) \"/usr/share/fsl/5.0/data/standard/MNI152_T1_2mm_brain\"\n",
    "\n",
    "# Search space for registration to standard space\n",
    "# 0   : No search\n",
    "# 90  : Normal search\n",
    "# 180 : Full search\n",
    "set fmri(regstandard_search) 90\n",
    "\n",
    "# Degrees of Freedom for registration to standard space\n",
    "set fmri(regstandard_dof) 12\n",
    "\n",
    "# Do nonlinear registration from structural to standard space?\n",
    "set fmri(regstandard_nonlinear_yn) 0\n",
    "\n",
    "# Control nonlinear warp field resolution\n",
    "set fmri(regstandard_nonlinear_warpres) 10 \n",
    "\n",
    "# High pass filter cutoff\n",
    "set fmri(paradigm_hp) 1.0\n",
    "\n",
    "# Total voxels\n",
    "set fmri(totalVoxels) 108315480\n",
    "\n",
    "\n",
    "# Number of lower-level copes feeding into higher-level analysis\n",
    "set fmri(ncopeinputs) 0\n",
    "\n",
    "# 4D AVW data or FEAT directory (1)\n",
    "set feat_files(1) \"/home/users/aforero/Tesis/Exp_C/ImagesC/C001/Baseline/rsfMRI_Baseline\"\n",
    "\n",
    "# Add confound EVs text file\n",
    "set fmri(confoundevs) 0\n",
    "\n",
    "# Resampling resolution\n",
    "set fmri(regstandard_res) 4\n",
    "\n",
    "# Variance-normalise timecourses\n",
    "set fmri(varnorm) 1\n",
    "\n",
    "# Automatic dimensionality estimation\n",
    "set fmri(dim_yn) 0\n",
    "\n",
    "# Output components\n",
    "set fmri(dim) 30\n",
    "\n",
    "# 1 : Single-session ICA\n",
    "# 2 : Multi-session temporal concatenation\n",
    "# 3 : Multi-session tensor TICA\n",
    "set fmri(icaopt) 1\n",
    "\n",
    "# Threshold IC maps\n",
    "set fmri(thresh_yn) 1\n",
    "\n",
    "# Mixture model threshold\n",
    "set fmri(mmthresh) 0.5\n",
    "\n",
    "# Output full stats folder\n",
    "set fmri(ostats) 0\n",
    "\n",
    "# Timeseries and subject models\n",
    "set fmri(ts_model_mat) \"\"\n",
    "set fmri(ts_model_con) \"\"\n",
    "set fmri(subject_model_mat) \"\"\n",
    "set fmri(subject_model_con) \"\"\n",
    "\n",
    "\n",
    "##########################################################\n",
    "# Now options that don't appear in the GUI\n",
    "\n",
    "# Alternative (to BETting) mask image\n",
    "set fmri(alternative_mask) \"\"\n",
    "\n",
    "# Initial structural space registration initialisation transform\n",
    "set fmri(init_initial_highres) \"\"\n",
    "\n",
    "# Structural space registration initialisation transform\n",
    "set fmri(init_highres) \"\"\n",
    "\n",
    "# Standard space registration initialisation transform\n",
    "set fmri(init_standard) \"\"\n",
    "\n",
    "# For full FEAT analysis: overwrite existing .feat output dir?\n",
    "set fmri(overwrite_yn) 0\n",
    "'''"
   ]
  },
  {
   "cell_type": "code",
   "execution_count": 15,
   "metadata": {
    "collapsed": true
   },
   "outputs": [],
   "source": [
    "def ICASingle(Data,iin,fol_out,Name):\n",
    "    Name=Name.replace('.nii.gz','')\n",
    "    \n",
    "    r1='''set feat_files(1) \"/home/users/aforero/Tesis/Exp_C/ImagesC/C001/Baseline/rsfMRI_Baseline\"'''\n",
    "    r2='''set feat_files(1) \"'''+iin+'''\"'''\n",
    "    Data=Data.replace(r1, r2)\n",
    "    \n",
    "    r1='''set fmri(outputdir) \"/home/arbey/Escritorio/Tesis/icA\"'''\n",
    "    r2='''set fmri(outputdir) \"'''+fol_out+Name+'''\"'''\n",
    "    Data=Data.replace(r1, r2)\n",
    "\n",
    "    \n",
    "    melodic_conf='feat_'+Name+'.fsf'\n",
    "    melodic_out=fol_out+'feat_'+Name+'.fsf'\n",
    "    \n",
    "    fil_tem=open(melodic_conf,'w')\n",
    "    fil_tem.write(Data)\n",
    "    fil_tem.close()\n",
    "    \n",
    "    melodic_out=Dir_out+melodic_conf\n",
    "    os.system('mv '+melodic_conf+' '+melodic_out)\n",
    "    os.system('rm '+melodic_conf)\n",
    "    comm='fsl5.0-feat '+melodic_out\n",
    "    return comm"
   ]
  },
  {
   "cell_type": "markdown",
   "metadata": {},
   "source": [
    "# Seleccion DMN"
   ]
  },
  {
   "cell_type": "code",
   "execution_count": 16,
   "metadata": {
    "collapsed": false
   },
   "outputs": [
    {
     "ename": "NameError",
     "evalue": "name 'blablabla' is not defined",
     "output_type": "error",
     "traceback": [
      "\u001b[0;31m---------------------------------------------------------------------------\u001b[0m",
      "\u001b[0;31mNameError\u001b[0m                                 Traceback (most recent call last)",
      "\u001b[0;32m<ipython-input-16-d1bf8fc6af91>\u001b[0m in \u001b[0;36m<module>\u001b[0;34m()\u001b[0m\n\u001b[0;32m----> 1\u001b[0;31m \u001b[0mblablabla\u001b[0m\u001b[0;34m\u001b[0m\u001b[0m\n\u001b[0m",
      "\u001b[0;31mNameError\u001b[0m: name 'blablabla' is not defined"
     ]
    }
   ],
   "source": [
    "blablabla"
   ]
  },
  {
   "cell_type": "markdown",
   "metadata": {},
   "source": [
    "# Test"
   ]
  },
  {
   "cell_type": "code",
   "execution_count": null,
   "metadata": {
    "collapsed": true
   },
   "outputs": [],
   "source": [
    "PSNR"
   ]
  },
  {
   "cell_type": "markdown",
   "metadata": {},
   "source": [
    "# Graficas"
   ]
  },
  {
   "cell_type": "code",
   "execution_count": null,
   "metadata": {
    "collapsed": true
   },
   "outputs": [],
   "source": [
    "DMN HD\n",
    "\n",
    "Medias, psnr"
   ]
  },
  {
   "cell_type": "code",
   "execution_count": null,
   "metadata": {
    "collapsed": true
   },
   "outputs": [],
   "source": []
  },
  {
   "cell_type": "markdown",
   "metadata": {},
   "source": [
    "# Main\n"
   ]
  },
  {
   "cell_type": "code",
   "execution_count": null,
   "metadata": {
    "collapsed": true
   },
   "outputs": [],
   "source": [
    "\n",
    "\n",
    "T1_Preproc(fol_in,fol_out)\n",
    "T2_Preproc(fol_in,fol_out)\n",
    "Split(iin,fol_out)\n",
    "\n",
    "Filtro  i.e  Aniso(iin,it,iout,fol_out,j)\n",
    "\n",
    "Reg(iin,iout,iref,ioutmat,dof)\n",
    "Reg(iin,iout,iref,ioutmat,dof)\n",
    "Norm (iin, iout,iatlas, mat_ref, iref)\n",
    "  \n",
    "merge(fol_in,iout)\n",
    "\n",
    "ICASingle(Data0,Dir_out,Name,iin)"
   ]
  },
  {
   "cell_type": "code",
   "execution_count": 26,
   "metadata": {
    "collapsed": true
   },
   "outputs": [],
   "source": [
    "def TestIn(ID,testName):\n",
    "    imgID='C'+str(ID).zfill(3)\n",
    "    commFolder=newFol('/home/arbey/Escritorio/CPrueba/'+testName)\n",
    "    fol_in='/home/arbey/Escritorio/CPrueba/ImagesC/'+imgID+'/'\n",
    "    fol_out='/home/arbey/Escritorio/CPrueba/'+testName+'/'+imgID+'/'\n",
    "\n",
    "    comm,iiout=T1_Preproc(fol_in,fol_out)\n",
    "    print commFolder\n",
    "    print comm"
   ]
  },
  {
   "cell_type": "code",
   "execution_count": 27,
   "metadata": {
    "collapsed": false,
    "scrolled": true
   },
   "outputs": [
    {
     "name": "stdout",
     "output_type": "stream",
     "text": [
      "mkdir /home/arbey/Escritorio/CPrueba/filtro_1CN\n",
      "fsl5.0-fslreorient2std /home/arbey/Escritorio/CPrueba/ImagesC/C001/highres.nii.gz /home/arbey/Escritorio/CPrueba/filtro_1CN/C001/highres_reorient.nii.gz ; fsl5.0-bet /home/arbey/Escritorio/CPrueba/filtro_1CN/C001/highres_reorient.nii.gz /home/arbey/Escritorio/CPrueba/filtro_1CN/C001/highres_bet.nii.gz -m -f 0.3 -g -0.05 ; rm /home/arbey/Escritorio/CPrueba/filtro_1CN/C001/highres_reorient.nii.gz ; fsl5.0-fslmaths /home/arbey/Escritorio/CPrueba/filtro_1CN/C001/highres_bet.nii.gz -kernel gauss 5 -fmean /home/arbey/Escritorio/CPrueba/filtro_1CN/C001/highres_bet_5_mm.nii.gz ; rm /home/arbey/Escritorio/CPrueba/filtro_1CN/C001/highres_bet.nii.gz\n"
     ]
    }
   ],
   "source": [
    "TestIn(1,'filtro_1CN')"
   ]
  },
  {
   "cell_type": "code",
   "execution_count": 127,
   "metadata": {
    "collapsed": true
   },
   "outputs": [],
   "source": [
    "def orden(x):\n",
    "    print x\n",
    "    #os.system(x)"
   ]
  },
  {
   "cell_type": "code",
   "execution_count": 128,
   "metadata": {
    "collapsed": true
   },
   "outputs": [],
   "source": [
    "class Simulacion:\n",
    "    def __init__(self,ID,folder):\n",
    "        self._ID=ID\n",
    "        self._folder=folder\n",
    "        \n",
    "    \n",
    "    def FolderInit(self,fol_in):\n",
    "        print\n",
    "        print \"FolderInit()\"\n",
    "        hr_iin=fol_in+'highres.nii.gz'\n",
    "        rs_iin=fol_in+'rsfMRI.nii.gz'\n",
    "        orden('mkdir '+self._folder+self._ID)\n",
    "        return hr_iin, rs_iin\n",
    "\n",
    "    def Preproc_T1(self,iin):\n",
    "        print\n",
    "        print  \"Preproc_T1()\"\n",
    "        orden('mkdir '+self._folder+self._ID+'/Preproc_T1')\n",
    "        pass\n",
    "\n",
    "    def Noise_T2(self,img4D,NoiseConfig):\n",
    "        print\n",
    "        print \"Noise_T2()\"\n",
    "        orden('mkdir '+self._folder+self._ID+'/Noise_T2')\n",
    "        if(NoiseConfig[0]=='Directo'):\n",
    "            return img4D\n",
    "        elif(NoiseConfig[0]=='Noise'):\n",
    "            print 'Possum'\n",
    "            ###llama funcion para adicionar ruido y env[ia configuracion\n",
    "            img4D=adicionaRuido()\n",
    "            return img4D\n",
    "\n",
    "    def Preproc_T2(self,iin):\n",
    "        print\n",
    "        print \"Preproc_T2()\"\n",
    "        orden('mkdir '+self._folder+self._ID+'/Preproc_T2')\n",
    "        pass\n",
    "\n",
    "    def MotCorr(self,list_iin,MCConfig):\n",
    "        print\n",
    "        print \"MotCorr()\"\n",
    "        orden('mkdir '+self._folder+self._ID+'/MotCorr')\n",
    "        if(MCConfig[0]=='Directo'):\n",
    "            print \"Directo\"\n",
    "            return img4D\n",
    "        elif(MCConfig[0]=='Mcflirt'):\n",
    "            print \"Mcflirt\"\n",
    "            return img4D\n",
    "        elif(MCConfig[0]=='Gauss'):\n",
    "            print 'Gauss'\n",
    "            return img4D\n",
    "        elif(MCConfig[0]=='AnisoAFNI'):\n",
    "            print 'AnisoAFNI'\n",
    "            return img4D\n",
    "        elif(MCConfig[0]=='AnisoGrad'):\n",
    "            print 'AnisoGrad'\n",
    "            return img4D\n",
    "        elif(MCConfig[0]=='AnisoCurv'):\n",
    "            print 'AnisoCurv'\n",
    "            return img4D\n",
    "        pass\n",
    "\n",
    "    def Reg(self,iin_Ref,list_Reg):\n",
    "        print\n",
    "        print \"Reg()\"\n",
    "        orden('mkdir '+self._folder+self._ID+'/Reg')\n",
    "        pass\n",
    "\n",
    "    def Norm(self,list_Norm):\n",
    "        print\n",
    "        print \"Norm()\"\n",
    "        orden('mkdir '+self._folder+self._ID+'/Norm')\n",
    "        pass\n",
    "\n",
    "    def Ica(self,desc_4D):\n",
    "        print\n",
    "        print \"Ica()\"\n",
    "        orden('mkdir '+self._folder+self._ID+'/Ica')\n",
    "        pass\n",
    "\n",
    "    def SelectDMN(self,IC_4D):\n",
    "        print\n",
    "        print \"SelectDMN()\"\n",
    "        orden('mkdir '+self._folder+self._ID+'/SelectDMN')\n",
    "        pass\n"
   ]
  },
  {
   "cell_type": "code",
   "execution_count": 129,
   "metadata": {
    "collapsed": true
   },
   "outputs": [],
   "source": [
    "def Prueba(IDExperimento,Folder,MCConfig,NoiseConfig,Descripcion):\n",
    "    sim=Simulacion(IDExperimento,Folder)\n",
    "    \n",
    "    hr_iin, rs_iin=sim.FolderInit(Folder)\n",
    "    \n",
    "    hr_5mm=sim.Preproc_T1(hr_iin)\n",
    "    \n",
    "    imgN=sim.Noise_T2(rs_iin,NoiseConfig)\n",
    "    \n",
    "    NameOutP2=sim.Preproc_T2(imgN)\n",
    "    \n",
    "    list_MotCorr=sim.MotCorr(NameOutP2,MCConfig)\n",
    "    \n",
    "    list_AnatReg=sim.Reg(hr_5mm,list_MotCorr)\n",
    "    \n",
    "    AtlasReg=sim.Norm(list_AnatReg)\n",
    "    \n",
    "    IC=sim.Ica(AtlasReg)\n",
    "    \n",
    "    DMN=sim.SelectDMN(IC) \n",
    "    "
   ]
  },
  {
   "cell_type": "code",
   "execution_count": 130,
   "metadata": {
    "collapsed": false
   },
   "outputs": [
    {
     "name": "stdout",
     "output_type": "stream",
     "text": [
      "\n",
      "FolderInit()\n",
      "mkdir /home/arbey/Escritorio/CPrueba/ImagesC/C001/mcflirt_001\n",
      "\n",
      "Preproc_T1()\n",
      "mkdir /home/arbey/Escritorio/CPrueba/ImagesC/C001/mcflirt_001/Preproc_T1\n",
      "\n",
      "Noise_T2()\n",
      "mkdir /home/arbey/Escritorio/CPrueba/ImagesC/C001/mcflirt_001/Noise_T2\n",
      "\n",
      "Preproc_T2()\n",
      "mkdir /home/arbey/Escritorio/CPrueba/ImagesC/C001/mcflirt_001/Preproc_T2\n",
      "\n",
      "MotCorr()\n",
      "mkdir /home/arbey/Escritorio/CPrueba/ImagesC/C001/mcflirt_001/MotCorr\n",
      "\n",
      "Reg()\n",
      "mkdir /home/arbey/Escritorio/CPrueba/ImagesC/C001/mcflirt_001/Reg\n",
      "\n",
      "Norm()\n",
      "mkdir /home/arbey/Escritorio/CPrueba/ImagesC/C001/mcflirt_001/Norm\n",
      "\n",
      "Ica()\n",
      "mkdir /home/arbey/Escritorio/CPrueba/ImagesC/C001/mcflirt_001/Ica\n",
      "\n",
      "SelectDMN()\n",
      "mkdir /home/arbey/Escritorio/CPrueba/ImagesC/C001/mcflirt_001/SelectDMN\n"
     ]
    }
   ],
   "source": [
    "Prueba('mcflirt_001', \n",
    "       '/home/arbey/Escritorio/CPrueba/ImagesC/C001/', \n",
    "       ['MCFlirt',0,0,0], \n",
    "       ['Directo',0,0,0], \n",
    "       \"Experimento prueba\")"
   ]
  },
  {
   "cell_type": "code",
   "execution_count": 131,
   "metadata": {
    "collapsed": false
   },
   "outputs": [
    {
     "name": "stdout",
     "output_type": "stream",
     "text": [
      "pp\n",
      "config1\n"
     ]
    }
   ],
   "source": [
    "t=['pp',5,3.5]\n",
    "print t[0]\n",
    "if (t[0]=='pp'):\n",
    "    print 'config1'\n",
    "    "
   ]
  },
  {
   "cell_type": "code",
   "execution_count": null,
   "metadata": {
    "collapsed": true
   },
   "outputs": [],
   "source": []
  },
  {
   "cell_type": "code",
   "execution_count": null,
   "metadata": {
    "collapsed": true
   },
   "outputs": [],
   "source": []
  }
 ],
 "metadata": {
  "kernelspec": {
   "display_name": "Python 2",
   "language": "python",
   "name": "python2"
  },
  "language_info": {
   "codemirror_mode": {
    "name": "ipython",
    "version": 2
   },
   "file_extension": ".py",
   "mimetype": "text/x-python",
   "name": "python",
   "nbconvert_exporter": "python",
   "pygments_lexer": "ipython2",
   "version": "2.7.6"
  }
 },
 "nbformat": 4,
 "nbformat_minor": 1
}
